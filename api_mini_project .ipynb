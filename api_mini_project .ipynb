{
 "cells": [
  {
   "cell_type": "code",
   "execution_count": 1,
   "metadata": {},
   "outputs": [],
   "source": [
    "# Store the API key as a string - according to PEP8, constants are always named in all upper case\n",
    "API_KEY = 'axqhF5sa612s-YmHyrWZ'"
   ]
  },
  {
   "cell_type": "code",
   "execution_count": 4,
   "metadata": {},
   "outputs": [],
   "source": [
    "import requests\n",
    "import collections"
   ]
  },
  {
   "cell_type": "code",
   "execution_count": 5,
   "metadata": {},
   "outputs": [],
   "source": [
    "r = requests.get('https://www.quandl.com/api/v3/datasets/FSE/AFX_X.json?start_date=2017-01-01&end_date=2017-01-02&api_key=axqhF5sa612s-YmHyrWZ')"
   ]
  },
  {
   "cell_type": "code",
   "execution_count": 6,
   "metadata": {},
   "outputs": [
    {
     "name": "stdout",
     "output_type": "stream",
     "text": [
      "id :  10095370\n",
      "dataset_code :  AFX_X\n",
      "database_code :  FSE\n",
      "name :  Carl Zeiss Meditec (AFX_X)\n",
      "description :  Stock Prices for Carl Zeiss Meditec (2019-12-04) from the Frankfurt Stock Exchange.<br><br>Trading System: Xetra<br><br>ISIN: DE0005313704\n",
      "refreshed_at :  2019-12-18T23:13:34.786Z\n",
      "newest_available_date :  2019-12-18\n",
      "oldest_available_date :  2000-06-07\n",
      "column_names :  ['Date', 'Open', 'High', 'Low', 'Close', 'Change', 'Traded Volume', 'Turnover', 'Last Price of the Day', 'Daily Traded Units', 'Daily Turnover']\n",
      "frequency :  daily\n",
      "type :  Time Series\n",
      "premium :  False\n",
      "limit :  None\n",
      "transform :  None\n",
      "column_index :  None\n",
      "start_date :  2017-01-01\n",
      "end_date :  2017-01-02\n",
      "data :  [['2017-01-02', 34.99, 35.94, 34.99, 35.8, None, 44700.0, 1590561.0, None, None, None]]\n",
      "collapse :  None\n",
      "order :  None\n",
      "database_id :  6129\n"
     ]
    }
   ],
   "source": [
    "for key, value in r.json()['dataset'].items():\n",
    "    print(key, ': ', value)\n",
    "    \n",
    "\n"
   ]
  },
  {
   "cell_type": "markdown",
   "metadata": {},
   "source": [
    "<li>Collect data from the Franfurt Stock Exchange, for the ticker AFX_X, for the whole year 2017 (keep in mind that the date format is YYYY-MM-DD).</li>"
   ]
  },
  {
   "cell_type": "code",
   "execution_count": 7,
   "metadata": {},
   "outputs": [
    {
     "data": {
      "text/plain": [
       "dict_keys(['id', 'dataset_code', 'database_code', 'name', 'description', 'refreshed_at', 'newest_available_date', 'oldest_available_date', 'column_names', 'frequency', 'type', 'premium', 'limit', 'transform', 'column_index', 'start_date', 'end_date', 'data', 'collapse', 'order', 'database_id'])"
      ]
     },
     "execution_count": 7,
     "metadata": {},
     "output_type": "execute_result"
    }
   ],
   "source": [
    "r_2017 = requests.get('https://www.quandl.com/api/v3/datasets/FSE/AFX_X.json?start_date=2017-01-01&end_date=2017-12-31&api_key=axqhF5sa612s-YmHyrWZ')\n",
    "dataset =  r_2017.json()['dataset']\n",
    "dataset.keys()\n"
   ]
  },
  {
   "cell_type": "markdown",
   "metadata": {},
   "source": [
    "\n",
    "<li>Convert the returned JSON object into a Python dictionary.Calculate \n",
    "what the highest and lowest opening prices were for the stock in this period.\n",
    "</li>\n"
   ]
  },
  {
   "cell_type": "code",
   "execution_count": 8,
   "metadata": {},
   "outputs": [
    {
     "name": "stdout",
     "output_type": "stream",
     "text": [
      "The highest price:  53.11 at 2017-12-14\n",
      "The highest price:  34.0 at 2017-01-24\n"
     ]
    }
   ],
   "source": [
    "i=0\n",
    "min_open=max_open = dataset['data'][0][1]\n",
    "while i < len(dataset['data']):\n",
    "    price = dataset['data'][i][1]\n",
    "    date = dataset['data'][i][0]\n",
    "    if price is not None:     # check missing data\n",
    "        #price = float(price)  \n",
    "          \n",
    "        if  price >= max_open:\n",
    "            max_open = price\n",
    "            curr_date_high = date  \n",
    "            #print('High opening: ', curr_date_high,': ',max_open)\n",
    "        else:\n",
    "            if price < min_open:\n",
    "                min_open = price\n",
    "                curr_date_low = date\n",
    "                #print('low opening: ',curr_date_low,': ',min_open)    \n",
    "                \n",
    "    i+=1\n",
    "print('The highest price: ',max_open, 'at', curr_date_high)\n",
    "print('The highest price: ',min_open, 'at', curr_date_low)\n",
    "        \n",
    "    "
   ]
  },
  {
   "cell_type": "markdown",
   "metadata": {},
   "source": [
    " <li>What was the largest change in any one day (based on High and Low price)?</li>"
   ]
  },
  {
   "cell_type": "code",
   "execution_count": 9,
   "metadata": {},
   "outputs": [
    {
     "name": "stdout",
     "output_type": "stream",
     "text": [
      "Curr Max day Change:  2017-12-29 :  0.4899999999999949\n",
      "Curr Max day Change:  2017-12-27 :  1.1300000000000026\n",
      "Curr Max day Change:  2017-12-19 :  1.6599999999999966\n",
      "Curr Max day Change:  2017-12-04 :  1.7299999999999969\n",
      "Curr Max day Change:  2017-11-21 :  1.8100000000000023\n",
      "Curr Max day Change:  2017-08-09 :  1.8599999999999994\n",
      "Curr Max day Change:  2017-08-07 :  2.3200000000000003\n",
      "Curr Max day Change:  2017-05-11 :  2.8100000000000023\n",
      "The highest day_change:  2.8100000000000023 at 2017-05-11\n"
     ]
    }
   ],
   "source": [
    "i =0\n",
    "max_change = 0\n",
    "while i <  len(dataset['data']):\n",
    "    High = dataset['data'][i][2] \n",
    "    Low  = dataset['data'][i][3]\n",
    "    date = dataset['data'][i][0]\n",
    "    day_change = High-Low\n",
    "    \n",
    "    if day_change is not None:\n",
    "        if day_change >= max_change:\n",
    "            max_change = day_change\n",
    "            curr_date = date\n",
    "            print('Curr Max day Change: ', curr_date,': ',max_change)\n",
    "    i+=1\n",
    "print('The highest day_change: ',max_change, 'at', curr_date)"
   ]
  },
  {
   "cell_type": "markdown",
   "metadata": {},
   "source": [
    "<li>What was the largest change between any two days (based on Closing Price)?</li>"
   ]
  },
  {
   "cell_type": "code",
   "execution_count": 14,
   "metadata": {},
   "outputs": [
    {
     "name": "stdout",
     "output_type": "stream",
     "text": [
      "Curr Max day Change:  2017-12-28  /  2017-12-29 0.1599999999999966\n",
      "Curr Max day Change:  2017-12-27  /  2017-12-28 0.21999999999999886\n",
      "Curr Max day Change:  2017-12-22  /  2017-12-27 0.5\n",
      "Curr Max day Change:  2017-12-18  /  2017-12-19 0.9600000000000009\n",
      "Curr Max day Change:  2017-12-01  /  2017-12-04 1.2800000000000011\n",
      "Curr Max day Change:  2017-11-20  /  2017-11-21 1.3500000000000014\n",
      "Curr Max day Change:  2017-09-27  /  2017-09-28 1.5200000000000031\n",
      "Curr Max day Change:  2017-08-08  /  2017-08-09 2.559999999999995\n",
      "largest change between any two days:  2017-08-08  /  2017-08-09 with change:  2.559999999999995\n"
     ]
    }
   ],
   "source": [
    "i =1 \n",
    "Max_two_days_Change = 0\n",
    "while i < len(dataset['data']):\n",
    "    Close1 = dataset['data'][i][4]\n",
    "    date1 = dataset['data'][i][0]\n",
    "    Close2 = dataset['data'][i-1][4]\n",
    "    date2 = dataset['data'][i-1][0]\n",
    "    change = abs(Close1 - Close2)\n",
    "    if Max_two_days_Change < change:\n",
    "        Max_two_days_Change = change\n",
    "        curr1 = date1\n",
    "        curr2 = date2\n",
    "        print('Curr Max day Change: ', curr1,' / ',curr2, Max_two_days_Change)\n",
    "    i+=1\n",
    "        \n",
    "print('largest change between any two days: ', curr1,' / ',curr2, 'with change: ',Max_two_days_Change)        "
   ]
  },
  {
   "cell_type": "markdown",
   "metadata": {},
   "source": [
    " <li>What was the average daily trading volume during this year?</li>"
   ]
  },
  {
   "cell_type": "code",
   "execution_count": 15,
   "metadata": {},
   "outputs": [
    {
     "data": {
      "text/plain": [
       "34640.0"
      ]
     },
     "execution_count": 15,
     "metadata": {},
     "output_type": "execute_result"
    }
   ],
   "source": [
    "Total_trading_volume = 0\n",
    "i=0\n",
    "while i < len(dataset['data']):\n",
    "    x = dataset['data'][i][6]\n",
    "    if x is not None:\n",
    "        Total_trading_volume += x \n",
    "    i+=1\n",
    "    avg\n"
   ]
  },
  {
   "cell_type": "markdown",
   "metadata": {},
   "source": [
    "<li>(Optional) What was the median trading volume during this year. (Note: you may need to implement your own function for calculating the median.)</li>"
   ]
  },
  {
   "cell_type": "code",
   "execution_count": null,
   "metadata": {},
   "outputs": [],
   "source": []
  }
 ],
 "metadata": {
  "kernelspec": {
   "display_name": "Python 3",
   "language": "python",
   "name": "python3"
  },
  "language_info": {
   "codemirror_mode": {
    "name": "ipython",
    "version": 3
   },
   "file_extension": ".py",
   "mimetype": "text/x-python",
   "name": "python",
   "nbconvert_exporter": "python",
   "pygments_lexer": "ipython3",
   "version": "3.7.3"
  }
 },
 "nbformat": 4,
 "nbformat_minor": 2
}
